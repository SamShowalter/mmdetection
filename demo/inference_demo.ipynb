{
 "cells": [
  {
   "cell_type": "code",
   "execution_count": 1,
   "metadata": {},
   "outputs": [
    {
     "name": "stdout",
     "output_type": "stream",
     "text": [
      "/home/showalte/research/mmdetection/demo\n",
      "/home/showalte/research/mmdetection/demo\n"
     ]
    }
   ],
   "source": [
    "%load_ext autoreload\n",
    "%autoreload 2\n",
    "import os\n",
    "import sys\n",
    "print(os.getcwd())\n",
    "os.chdir(\"../../Scene_Graph_Novelty/eda\")\n",
    "from embedding_scene_terms import save_json, read_json\n",
    "os.chdir(sys.path[0])\n",
    "print(os.getcwd())\n",
    "\n",
    "from mmdet.apis import init_detector, inference_detector, show_result_pyplot\n",
    "from inference_det_with_probs import *\n",
    "import mmcv"
   ]
  },
  {
   "cell_type": "code",
   "execution_count": 2,
   "metadata": {},
   "outputs": [],
   "source": [
    "config_file = '../configs/faster_rcnn/faster_rcnn_r50_fpn_1x_coco.py'\n",
    "# download the checkpoint from model zoo and put it in `checkpoints/`\n",
    "# url: https://download.openmmlab.com/mmdetection/v2.0/faster_rcnn/faster_rcnn_r50_fpn_1x_coco/faster_rcnn_r50_fpn_1x_coco_20200130-047c8118.pth\n",
    "checkpoint_file = '../models/checkpoints/faster_rcnn_r50_fpn_1x_coco_20200130-047c8118.pth'"
   ]
  },
  {
   "cell_type": "code",
   "execution_count": 3,
   "metadata": {},
   "outputs": [],
   "source": [
    "imgs = read_json(\"../../Scene_Graph_Novelty/data/coco/clean/images_train_coco_2017.json\")"
   ]
  },
  {
   "cell_type": "code",
   "execution_count": 4,
   "metadata": {},
   "outputs": [
    {
     "name": "stdout",
     "output_type": "stream",
     "text": [
      "Use load_from_local loader\n"
     ]
    }
   ],
   "source": [
    "# build the model from a config file and a checkpoint file\n",
    "model = init_detector(config_file, checkpoint_file, device='cuda:0')"
   ]
  },
  {
   "cell_type": "code",
   "execution_count": 5,
   "metadata": {},
   "outputs": [],
   "source": [
    "# model"
   ]
  },
  {
   "cell_type": "code",
   "execution_count": 63,
   "metadata": {},
   "outputs": [
    {
     "name": "stdout",
     "output_type": "stream",
     "text": [
      "../../Scene_Graph_Novelty/data/coco/images/train2017/000000118113.jpg\n",
      "torch.Size([1, 256, 17, 13])\n",
      "5\n",
      "torch.Size([1000, 5])\n",
      "100\n"
     ]
    }
   ],
   "source": [
    "# test a single image\n",
    "img = imgs[list(imgs.keys())[10]]\n",
    "img_path = \"../../Scene_Graph_Novelty/data/coco/images/train2017/{}\".format(img['file_name'])\n",
    "print(img_path)\n",
    "result = inference_detector(model, img_path)\n",
    "det_bboxes, det_labels, det_probs = inference_detector_with_probs(model, img_path,score_thresh = 0.8)\n",
    "# res =  inference_detector_with_probs(model, img_path,score_thresh = 0.8)\n",
    "\n",
    "# to cpu()\n",
    "det_bboxes = det_bboxes[0].cpu().numpy()\n",
    "det_labels = det_labels[0].cpu().numpy()\n",
    "det_probs = det_probs[0].cpu().numpy()\n"
   ]
  },
  {
   "cell_type": "code",
   "execution_count": 55,
   "metadata": {},
   "outputs": [
    {
     "name": "stdout",
     "output_type": "stream",
     "text": [
      "[264.5595 277.8871 294.3502 286.1326   0.0479]\n"
     ]
    }
   ],
   "source": [
    "print(det_bboxes[99])"
   ]
  },
  {
   "cell_type": "code",
   "execution_count": 37,
   "metadata": {},
   "outputs": [
    {
     "data": {
      "text/plain": [
       "array([86.6747, 78.4217, 60.0579, 49.0263, 48.3644, 46.6987, 46.4785,\n",
       "       39.1224, 38.481 , 37.9788, 37.3233, 35.9271, 35.8613, 35.0787,\n",
       "       34.7779, 34.3087, 33.8584, 31.7061, 30.009 , 29.4317, 29.3082,\n",
       "       28.446 , 26.4507, 25.228 , 24.2374, 23.5087, 23.129 , 22.3889,\n",
       "       22.0492, 21.5177, 20.2206, 19.5235, 18.6538, 17.825 , 17.6876,\n",
       "       17.5229, 17.4478, 17.2389, 17.0831, 16.7426, 16.4818, 16.3907,\n",
       "       16.2792, 16.1444, 14.9064, 14.6699, 14.3892, 13.7465, 13.607 ,\n",
       "       12.3491, 12.2423, 12.0502, 11.2767, 11.1742, 11.1112, 11.0018,\n",
       "       10.8117, 10.5193, 10.2884, 10.1793, 10.1403, 10.0811,  9.9774,\n",
       "        9.6476,  9.633 ,  9.5935,  9.5883,  9.4337,  9.3473,  9.1966,\n",
       "        9.0108,  8.9385,  8.6167,  8.4224,  8.1476,  8.0294,  7.9   ,\n",
       "        7.5905,  7.5601,  7.355 ,  7.328 ,  7.2483,  7.1566,  7.1351,\n",
       "        7.0043,  6.9277,  6.9047,  6.9012,  6.7084,  6.5393,  6.5341,\n",
       "        6.4826,  5.9015,  5.5887,  5.4755,  5.4272,  4.9681,  4.8772,\n",
       "        4.8728,  4.7884], dtype=float32)"
      ]
     },
     "execution_count": 37,
     "metadata": {},
     "output_type": "execute_result"
    }
   ],
   "source": [
    "np.set_printoptions(precision = 4,suppress =True)\n",
    "det_probs.max(axis = 1)*100"
   ]
  },
  {
   "cell_type": "code",
   "execution_count": 65,
   "metadata": {},
   "outputs": [
    {
     "ename": "ValueError",
     "evalue": "all the input array dimensions for the concatenation axis must match exactly, but along dimension 1, the array at index 0 has size 5 and the array at index 1 has size 1",
     "output_type": "error",
     "traceback": [
      "\u001b[0;31m---------------------------------------------------------------------------\u001b[0m",
      "\u001b[0;31mValueError\u001b[0m                                Traceback (most recent call last)",
      "\u001b[0;32m/tmp/ipykernel_25053/2708259817.py\u001b[0m in \u001b[0;36m<module>\u001b[0;34m\u001b[0m\n\u001b[1;32m      1\u001b[0m \u001b[0;31m# show the results\u001b[0m\u001b[0;34m\u001b[0m\u001b[0;34m\u001b[0m\u001b[0;34m\u001b[0m\u001b[0m\n\u001b[0;32m----> 2\u001b[0;31m \u001b[0mshow_result_pyplot\u001b[0m\u001b[0;34m(\u001b[0m\u001b[0mmodel\u001b[0m\u001b[0;34m,\u001b[0m \u001b[0mimg_path\u001b[0m\u001b[0;34m,\u001b[0m\u001b[0;34m[\u001b[0m\u001b[0mdet_bboxes\u001b[0m\u001b[0;34m,\u001b[0m\u001b[0mdet_labels\u001b[0m\u001b[0;34m]\u001b[0m \u001b[0;34m)\u001b[0m\u001b[0;34m\u001b[0m\u001b[0;34m\u001b[0m\u001b[0m\n\u001b[0m",
      "\u001b[0;32m~/.conda/envs/cvenv/lib/python3.7/site-packages/mmdet/apis/inference.py\u001b[0m in \u001b[0;36mshow_result_pyplot\u001b[0;34m(model, img, result, score_thr, title, wait_time)\u001b[0m\n\u001b[1;32m    239\u001b[0m         \u001b[0mwin_name\u001b[0m\u001b[0;34m=\u001b[0m\u001b[0mtitle\u001b[0m\u001b[0;34m,\u001b[0m\u001b[0;34m\u001b[0m\u001b[0;34m\u001b[0m\u001b[0m\n\u001b[1;32m    240\u001b[0m         \u001b[0mbbox_color\u001b[0m\u001b[0;34m=\u001b[0m\u001b[0;34m(\u001b[0m\u001b[0;36m72\u001b[0m\u001b[0;34m,\u001b[0m \u001b[0;36m101\u001b[0m\u001b[0;34m,\u001b[0m \u001b[0;36m241\u001b[0m\u001b[0;34m)\u001b[0m\u001b[0;34m,\u001b[0m\u001b[0;34m\u001b[0m\u001b[0;34m\u001b[0m\u001b[0m\n\u001b[0;32m--> 241\u001b[0;31m         text_color=(72, 101, 241))\n\u001b[0m",
      "\u001b[0;32m~/.conda/envs/cvenv/lib/python3.7/site-packages/mmdet/models/detectors/base.py\u001b[0m in \u001b[0;36mshow_result\u001b[0;34m(self, img, result, score_thr, bbox_color, text_color, mask_color, thickness, font_size, win_name, show, wait_time, out_file)\u001b[0m\n\u001b[1;32m    308\u001b[0m         \u001b[0;32melse\u001b[0m\u001b[0;34m:\u001b[0m\u001b[0;34m\u001b[0m\u001b[0;34m\u001b[0m\u001b[0m\n\u001b[1;32m    309\u001b[0m             \u001b[0mbbox_result\u001b[0m\u001b[0;34m,\u001b[0m \u001b[0msegm_result\u001b[0m \u001b[0;34m=\u001b[0m \u001b[0mresult\u001b[0m\u001b[0;34m,\u001b[0m \u001b[0;32mNone\u001b[0m\u001b[0;34m\u001b[0m\u001b[0;34m\u001b[0m\u001b[0m\n\u001b[0;32m--> 310\u001b[0;31m         \u001b[0mbboxes\u001b[0m \u001b[0;34m=\u001b[0m \u001b[0mnp\u001b[0m\u001b[0;34m.\u001b[0m\u001b[0mvstack\u001b[0m\u001b[0;34m(\u001b[0m\u001b[0mbbox_result\u001b[0m\u001b[0;34m)\u001b[0m\u001b[0;34m\u001b[0m\u001b[0;34m\u001b[0m\u001b[0m\n\u001b[0m\u001b[1;32m    311\u001b[0m         labels = [\n\u001b[1;32m    312\u001b[0m             \u001b[0mnp\u001b[0m\u001b[0;34m.\u001b[0m\u001b[0mfull\u001b[0m\u001b[0;34m(\u001b[0m\u001b[0mbbox\u001b[0m\u001b[0;34m.\u001b[0m\u001b[0mshape\u001b[0m\u001b[0;34m[\u001b[0m\u001b[0;36m0\u001b[0m\u001b[0;34m]\u001b[0m\u001b[0;34m,\u001b[0m \u001b[0mi\u001b[0m\u001b[0;34m,\u001b[0m \u001b[0mdtype\u001b[0m\u001b[0;34m=\u001b[0m\u001b[0mnp\u001b[0m\u001b[0;34m.\u001b[0m\u001b[0mint32\u001b[0m\u001b[0;34m)\u001b[0m\u001b[0;34m\u001b[0m\u001b[0;34m\u001b[0m\u001b[0m\n",
      "\u001b[0;32m<__array_function__ internals>\u001b[0m in \u001b[0;36mvstack\u001b[0;34m(*args, **kwargs)\u001b[0m\n",
      "\u001b[0;32m~/.conda/envs/cvenv/lib/python3.7/site-packages/numpy/core/shape_base.py\u001b[0m in \u001b[0;36mvstack\u001b[0;34m(tup)\u001b[0m\n\u001b[1;32m    280\u001b[0m     \u001b[0;32mif\u001b[0m \u001b[0;32mnot\u001b[0m \u001b[0misinstance\u001b[0m\u001b[0;34m(\u001b[0m\u001b[0marrs\u001b[0m\u001b[0;34m,\u001b[0m \u001b[0mlist\u001b[0m\u001b[0;34m)\u001b[0m\u001b[0;34m:\u001b[0m\u001b[0;34m\u001b[0m\u001b[0;34m\u001b[0m\u001b[0m\n\u001b[1;32m    281\u001b[0m         \u001b[0marrs\u001b[0m \u001b[0;34m=\u001b[0m \u001b[0;34m[\u001b[0m\u001b[0marrs\u001b[0m\u001b[0;34m]\u001b[0m\u001b[0;34m\u001b[0m\u001b[0;34m\u001b[0m\u001b[0m\n\u001b[0;32m--> 282\u001b[0;31m     \u001b[0;32mreturn\u001b[0m \u001b[0m_nx\u001b[0m\u001b[0;34m.\u001b[0m\u001b[0mconcatenate\u001b[0m\u001b[0;34m(\u001b[0m\u001b[0marrs\u001b[0m\u001b[0;34m,\u001b[0m \u001b[0;36m0\u001b[0m\u001b[0;34m)\u001b[0m\u001b[0;34m\u001b[0m\u001b[0;34m\u001b[0m\u001b[0m\n\u001b[0m\u001b[1;32m    283\u001b[0m \u001b[0;34m\u001b[0m\u001b[0m\n\u001b[1;32m    284\u001b[0m \u001b[0;34m\u001b[0m\u001b[0m\n",
      "\u001b[0;32m<__array_function__ internals>\u001b[0m in \u001b[0;36mconcatenate\u001b[0;34m(*args, **kwargs)\u001b[0m\n",
      "\u001b[0;31mValueError\u001b[0m: all the input array dimensions for the concatenation axis must match exactly, but along dimension 1, the array at index 0 has size 5 and the array at index 1 has size 1"
     ]
    }
   ],
   "source": [
    "# show the results\n",
    "# show_result_pyplot(model, img_path,[det_bboxes,det_labels] )"
   ]
  },
  {
   "cell_type": "code",
   "execution_count": null,
   "metadata": {},
   "outputs": [],
   "source": []
  },
  {
   "cell_type": "code",
   "execution_count": null,
   "metadata": {},
   "outputs": [],
   "source": []
  }
 ],
 "metadata": {
  "kernelspec": {
   "display_name": "cv_env",
   "language": "python",
   "name": "cvenv"
  },
  "language_info": {
   "codemirror_mode": {
    "name": "ipython",
    "version": 3
   },
   "file_extension": ".py",
   "mimetype": "text/x-python",
   "name": "python",
   "nbconvert_exporter": "python",
   "pygments_lexer": "ipython3",
   "version": "3.7.11"
  },
  "pycharm": {
   "stem_cell": {
    "cell_type": "raw",
    "metadata": {
     "collapsed": false
    },
    "source": []
   }
  }
 },
 "nbformat": 4,
 "nbformat_minor": 4
}
